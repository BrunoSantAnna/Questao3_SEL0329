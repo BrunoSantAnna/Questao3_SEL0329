{
 "cells": [
  {
   "attachments": {},
   "cell_type": "markdown",
   "metadata": {},
   "source": [
    "<h2> Característica Torque x Velocidade motor de indução trifásico"
   ]
  },
  {
   "cell_type": "code",
   "execution_count": 35,
   "metadata": {},
   "outputs": [],
   "source": [
    "import numpy as np\n",
    "import matplotlib.pyplot as plt\n",
    "import cmath"
   ]
  },
  {
   "attachments": {},
   "cell_type": "markdown",
   "metadata": {},
   "source": [
    "<h5> Definindo os parametros da máquina"
   ]
  },
  {
   "cell_type": "code",
   "execution_count": 36,
   "metadata": {},
   "outputs": [],
   "source": [
    "V1 = 460/pow(3, 1/2)\n",
    "freq = 60\n",
    "polos = 4\n",
    "hp = 25\n",
    "\n",
    "R1 = 0.15\n",
    "X1 = 0.852\n",
    "Xm = 20\n",
    "R2_ = 0.154\n",
    "X2_ = 1.066"
   ]
  },
  {
   "attachments": {},
   "cell_type": "markdown",
   "metadata": {},
   "source": [
    "<h5> Calculando os parâmetros do equivalewnte de Thévenin"
   ]
  },
  {
   "cell_type": "code",
   "execution_count": 37,
   "metadata": {},
   "outputs": [
    {
     "name": "stdout",
     "output_type": "stream",
     "text": [
      "Vth = 254.72305059514355|_0.4121532076864707 V\n",
      "Rth =  0.13798546610124393\n",
      "Xth =  0.8181804057124107\n"
     ]
    }
   ],
   "source": [
    "Vth = (V1*Xm*1j)/(R1+(X1+Xm)*1j)\n",
    "Zth = pow(1/(Xm*1j)+1/(R1+X1*1j),-1)\n",
    "\n",
    "Rth = Zth.real\n",
    "Xth = Zth.imag\n",
    "\n",
    "Vth_mod, Vth_ang = cmath.polar(Vth)\n",
    "Vth_ang = Vth_ang*360/(2*np.pi)\n",
    "\n",
    "print(\"Vth = {}|_{} V\".format(Vth_mod, Vth_ang))\n",
    "print(\"Rth = \", Rth)\n",
    "print(\"Xth = \", Xth)"
   ]
  },
  {
   "attachments": {},
   "cell_type": "markdown",
   "metadata": {},
   "source": [
    "<h5> Calculando o torque trifásico"
   ]
  },
  {
   "cell_type": "code",
   "execution_count": 38,
   "metadata": {},
   "outputs": [
    {
     "name": "stdout",
     "output_type": "stream",
     "text": [
      "Velocidade síncrona = 1800.0 rpm\n",
      "Velocidade síncrona = 188.49555921538757 rad/s\n"
     ]
    }
   ],
   "source": [
    "# Calculando a velocidade síncrona\n",
    "\n",
    "n_s = 120*freq/polos\n",
    "omega_s = n_s*2*np.pi/60\n",
    "print(\"Velocidade síncrona = {} rpm\".format(n_s))\n",
    "print(\"Velocidade síncrona = {} rad/s\".format(omega_s))\n",
    "\n",
    "omega = np.linspace(0.0001, omega_s, 100)\n",
    "\n",
    "# Calculando o torque\n",
    "\n",
    "T = (3/omega_s)*(R2_/(omega/omega_s))*(abs(Vth)**2)/((Rth+R2_/(omega/omega_s))**2 + (Xth + X2_)**2)"
   ]
  },
  {
   "attachments": {},
   "cell_type": "markdown",
   "metadata": {},
   "source": [
    "<h5> Cirando a curva Torque x Velocidade"
   ]
  },
  {
   "cell_type": "code",
   "execution_count": 46,
   "metadata": {},
   "outputs": [
    {
     "data": {
      "image/png": "[encoded data removed]",
      "text/plain": [
       "<Figure size 432x288 with 1 Axes>"
      ]
     },
     "metadata": {
      "needs_background": "light"
     },
     "output_type": "display_data"
    }
   ],
   "source": [
    "plt.xlabel(\"Velocidade da máquina [rad/s]\")\n",
    "plt.ylabel(\"Torque [Nm]\")\n",
    "\n",
    "plt.plot(omega, T)\n",
    "plt.xlim(max(omega), min(omega))\n",
    "plt.savefig(\"Curva torque x velocidade.jpg\")\n",
    "plt.show()"
   ]
  },
  {
   "attachments": {},
   "cell_type": "markdown",
   "metadata": {},
   "source": [
    "<h5> Cálculo da resistência para maximixar o torque de partida"
   ]
  },
  {
   "attachments": {},
   "cell_type": "markdown",
   "metadata": {},
   "source": [
    "Para transferir o torque máximo para a partida, deve-se derivar a expressão do torque e igualá-la a zero, para encontrar o escorregamento que torna o torque máximo.\n",
    "\n",
    "$$\\dfrac{dT}{dt} = 0 \\implies s = \\dfrac{R'_2}{\\sqrt{R_{th}^2 + (X_{th} + X_m)^2}}$$\n",
    "\n",
    "Desse modo, sabendo que o escorregamento na partida é igual a 1, obtemos:\n",
    "\n",
    "$$R'_2 = \\sqrt{R_{th}^2 + (X_{th} + X_m)^2}$$"
   ]
  },
  {
   "cell_type": "code",
   "execution_count": 40,
   "metadata": {},
   "outputs": [
    {
     "name": "stdout",
     "output_type": "stream",
     "text": [
      "R'2 = 1.8904633826844106 Ohm\n",
      "Rs = 1.7364633826844107 Ohm\n"
     ]
    }
   ],
   "source": [
    "R2_max = pow(R2_**2 + (Xth + X2_)**2, 1/2)\n",
    "\n",
    "Rs = R2_max - R2_\n",
    "\n",
    "print(\"R'2 = {} Ohm\".format(R2_max))\n",
    "print(\"Rs = {} Ohm\".format(Rs))"
   ]
  },
  {
   "cell_type": "code",
   "execution_count": 47,
   "metadata": {},
   "outputs": [
    {
     "data": {
      "image/png": "[encoded data removed]",
      "text/plain": [
       "<Figure size 432x288 with 1 Axes>"
      ]
     },
     "metadata": {
      "needs_background": "light"
     },
     "output_type": "display_data"
    }
   ],
   "source": [
    "# Calculando o torque\n",
    "\n",
    "T = (3/omega_s)*(R2_max/(omega/omega_s))*(abs(Vth)**2)/((Rth+R2_max/(omega/omega_s))**2 + (Xth + X2_)**2)\n",
    "\n",
    "# Plotando a curva\n",
    "\n",
    "plt.xlabel(\"Velocidade da máquina [rad/s]\")\n",
    "plt.ylabel(\"Torque [Nm]\")\n",
    "\n",
    "plt.plot(omega, T)\n",
    "plt.xlim(max(omega), min(omega))\n",
    "plt.savefig(\"Curva torque x velocidade com torque maximo na partida.jpg\")\n",
    "plt.show()"
   ]
  }
 ],
 "metadata": {
  "kernelspec": {
   "display_name": "Python 3",
   "language": "python",
   "name": "python3"
  },
  "language_info": {
   "codemirror_mode": {
    "name": "ipython",
    "version": 3
   },
   "file_extension": ".py",
   "mimetype": "text/x-python",
   "name": "python",
   "nbconvert_exporter": "python",
   "pygments_lexer": "ipython3",
   "version": "3.10.6"
  },
  "orig_nbformat": 4,
  "vscode": {
   "interpreter": {
    "hash": "916dbcbb3f70747c44a77c7bcd40155683ae19c65e1c03b4aa3499c5328201f1"
   }
  }
 },
 "nbformat": 4,
 "nbformat_minor": 2
}
